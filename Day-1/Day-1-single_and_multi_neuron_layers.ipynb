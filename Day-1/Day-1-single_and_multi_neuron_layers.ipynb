{
 "cells": [
  {
   "cell_type": "code",
   "execution_count": 1,
   "id": "19b01e1e",
   "metadata": {},
   "outputs": [],
   "source": [
    "import numpy as np\n",
    "import matplotlib.pyplot as plt"
   ]
  },
  {
   "cell_type": "markdown",
   "id": "6c738a92",
   "metadata": {},
   "source": [
    "## Single Neuron"
   ]
  },
  {
   "cell_type": "markdown",
   "id": "4e6c4cc4",
   "metadata": {},
   "source": [
    "### Pure Python"
   ]
  },
  {
   "cell_type": "code",
   "execution_count": 2,
   "id": "771e407c",
   "metadata": {},
   "outputs": [
    {
     "name": "stdout",
     "output_type": "stream",
     "text": [
      "Output: 2.3\n"
     ]
    }
   ],
   "source": [
    "input = [1,2,3]\n",
    "weights = [0.2, 0.8, -0.5]\n",
    "bias = 2.0\n",
    "\n",
    "# Output = sum(input[i] * weights[i]) + bias\n",
    "output = (input[0]*weights[0] + input[1]*weights[1] + input[2]*weights[2]) + bias\n",
    "\n",
    "print(\"Output:\", output)"
   ]
  },
  {
   "cell_type": "markdown",
   "id": "54e2719f",
   "metadata": {},
   "source": [
    "### Using NumPy"
   ]
  },
  {
   "cell_type": "code",
   "execution_count": 3,
   "id": "b656b2cd",
   "metadata": {},
   "outputs": [
    {
     "name": "stdout",
     "output_type": "stream",
     "text": [
      "Output: 2.3\n"
     ]
    }
   ],
   "source": [
    "Output_np = np.dot(input, weights) + bias\n",
    "print(\"Output:\", Output_np)"
   ]
  },
  {
   "cell_type": "markdown",
   "id": "98452c3e",
   "metadata": {},
   "source": [
    "## Layer of 3 Neurons"
   ]
  },
  {
   "cell_type": "code",
   "execution_count": 4,
   "id": "04f0d865",
   "metadata": {},
   "outputs": [
    {
     "name": "stdout",
     "output_type": "stream",
     "text": [
      "Output: [4.8, 1.21, 2.385]\n"
     ]
    }
   ],
   "source": [
    "input = [1, 2, 3, 2.5]\n",
    "weights1 = [0.2, 0.8, -0.5, 1.0]\n",
    "weights2 = [0.5, -0.91, 0.26, -0.5]\n",
    "weights3 = [-0.26,-0.27, 0.17, 0.87]\n",
    "bias1 = 2.0\n",
    "bias2 = 3.0\n",
    "bias3 = 0.5\n",
    "# Output = sum(input[i] * weights1[i]) + bias1\n",
    "output = [\n",
    "    (input[0]*weights1[0] + input[1]*weights1[1] + input[2]*weights1[2] + input[3]*weights1[3]) + bias1,\n",
    "    (input[0]*weights2[0] + input[1]*weights2[1] + input[2]*weights2[2] + input[3]*weights2[3]) + bias2,\n",
    "    (input[0]*weights3[0] + input[1]*weights3[1] + input[2]*weights3[2] + input[3]*weights3[3]) + bias3\n",
    "]   \n",
    "\n",
    "print(\"Output:\", output)"
   ]
  },
  {
   "cell_type": "markdown",
   "id": "6d8c4827",
   "metadata": {},
   "source": [
    "## Layer with Loops"
   ]
  },
  {
   "cell_type": "markdown",
   "id": "5bade4d2",
   "metadata": {},
   "source": [
    "### Pure Python"
   ]
  },
  {
   "cell_type": "code",
   "execution_count": 5,
   "id": "d734b2d6",
   "metadata": {},
   "outputs": [
    {
     "name": "stdout",
     "output_type": "stream",
     "text": [
      "Layer outputs: [4.8, 1.21, 2.385]\n"
     ]
    }
   ],
   "source": [
    "inputs = [1, 2, 3, 2.5]\n",
    "weights = [\n",
    "    [0.2, 0.8, -0.5, 1.0],\n",
    "    [0.5, -0.91, 0.26, -0.5],\n",
    "    [-0.26,-0.27, 0.17, 0.87]\n",
    "]\n",
    "biases = [2.0, 3.0, 0.5]\n",
    "\n",
    "layer_outputs = []\n",
    "for neuron_weights, neuron_bias in zip(weights, biases):\n",
    "    neuron_output = 0\n",
    "    for n_input, weight in zip(inputs, neuron_weights):\n",
    "        neuron_output += n_input * weight\n",
    "    neuron_output += neuron_bias\n",
    "    layer_outputs.append(neuron_output)\n",
    "\n",
    "print(\"Layer outputs:\", layer_outputs)"
   ]
  },
  {
   "cell_type": "code",
   "execution_count": 6,
   "id": "371d94f6",
   "metadata": {},
   "outputs": [
    {
     "name": "stdout",
     "output_type": "stream",
     "text": [
      "Output: [4.8   1.21  2.385]\n"
     ]
    }
   ],
   "source": [
    "output = np.dot(weights, inputs) + biases\n",
    "print(\"Output:\", output)"
   ]
  },
  {
   "cell_type": "code",
   "execution_count": null,
   "id": "a3f18783",
   "metadata": {},
   "outputs": [],
   "source": []
  }
 ],
 "metadata": {
  "kernelspec": {
   "display_name": "venv",
   "language": "python",
   "name": "python3"
  },
  "language_info": {
   "codemirror_mode": {
    "name": "ipython",
    "version": 3
   },
   "file_extension": ".py",
   "mimetype": "text/x-python",
   "name": "python",
   "nbconvert_exporter": "python",
   "pygments_lexer": "ipython3",
   "version": "3.11.0"
  }
 },
 "nbformat": 4,
 "nbformat_minor": 5
}
